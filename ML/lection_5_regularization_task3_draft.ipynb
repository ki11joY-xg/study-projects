{
 "cells": [
  {
   "cell_type": "markdown",
   "metadata": {},
   "source": [
    "M8O-402Б-21 Кириченко Александра"
   ]
  },
  {
   "cell_type": "markdown",
   "metadata": {},
   "source": [
    "Загрузить данные о перелетах. \n",
    "\n",
    "* Рассмотреть методы из лекции об ансамблевых моделях. Оценить разброс характеристики качества для каждого из методов с параметрами по умолчанию, проведя кросс-валидацию по 5ти блокам на тренировочный выборке.\n",
    "* Выбрать один из методов для дальнейшей работы, демонстрирующий лучшее качество\n",
    "* Подключить недостающие пакеты, выполнить при необходимости дополнительные преобразования\n",
    "* Для выбранного метода подобрать лучшие значения гиперпараметров\n",
    "* Оценить качество настроенного классификатора на тестовой выбоке"
   ]
  },
  {
   "cell_type": "code",
   "execution_count": 1,
   "metadata": {},
   "outputs": [],
   "source": [
    "import numpy as np\n",
    "import pandas as pd\n",
    "from sklearn.ensemble import RandomForestClassifier, GradientBoostingClassifier\n",
    "from sklearn.model_selection import cross_val_score, GridSearchCV, train_test_split\n",
    "from sklearn.metrics import accuracy_score"
   ]
  },
  {
   "cell_type": "code",
   "execution_count": 2,
   "metadata": {},
   "outputs": [],
   "source": [
    "X_train = pd.read_csv('train_n.csv', sep=',')\n",
    "y_train = pd.read_csv('train_n_y.csv', sep=',')\n",
    "y_train = y_train['0']\n",
    "\n",
    "X_tr, X_te, y_tr, y_te = train_test_split(X_train, y_train, test_size=0.3, random_state=12)"
   ]
  },
  {
   "cell_type": "code",
   "execution_count": 3,
   "metadata": {},
   "outputs": [
    {
     "name": "stdout",
     "output_type": "stream",
     "text": [
      "Random Forest: mean=0.9607, std=0.0013\n",
      "Gradient Boosting: mean=0.9423, std=0.0018\n",
      "\n",
      "Выбрана модель: Random Forest\n"
     ]
    }
   ],
   "source": [
    "models = {\n",
    "    \"Random Forest\": RandomForestClassifier(),\n",
    "    \"Gradient Boosting\": GradientBoostingClassifier()\n",
    "}\n",
    "\n",
    "# Кросс-валидация по 5 блокам\n",
    "best_model_name = None\n",
    "best_score = 0\n",
    "\n",
    "for name, model in models.items():\n",
    "    scores = cross_val_score(model, X_tr, y_tr, cv=5)\n",
    "    mean_score = scores.mean()\n",
    "    std_score = scores.std()\n",
    "    print(f\"{name}: mean={mean_score:.4f}, std={std_score:.4f}\")\n",
    "    \n",
    "    if mean_score > best_score:\n",
    "        best_score = mean_score\n",
    "        best_model_name = name\n",
    "\n",
    "print(f\"\\nВыбрана модель: {best_model_name}\")"
   ]
  },
  {
   "cell_type": "code",
   "execution_count": 7,
   "metadata": {},
   "outputs": [
    {
     "name": "stderr",
     "output_type": "stream",
     "text": [
      "C:\\Users\\sasha\\AppData\\Local\\Packages\\PythonSoftwareFoundation.Python.3.10_qbz5n2kfra8p0\\LocalCache\\local-packages\\Python310\\site-packages\\sklearn\\model_selection\\_search.py:317: UserWarning: The total space of parameters 18 is smaller than n_iter=20. Running 18 iterations. For exhaustive searches, use GridSearchCV.\n",
      "  warnings.warn(\n",
      "C:\\Users\\sasha\\AppData\\Local\\Packages\\PythonSoftwareFoundation.Python.3.10_qbz5n2kfra8p0\\LocalCache\\local-packages\\Python310\\site-packages\\joblib\\externals\\loky\\process_executor.py:752: UserWarning: A worker stopped while some jobs were given to the executor. This can be caused by a too short worker timeout or by a memory leak.\n",
      "  warnings.warn(\n"
     ]
    },
    {
     "name": "stdout",
     "output_type": "stream",
     "text": [
      "\n",
      "Лучшие параметры для Random Forest: {'n_estimators': 200, 'min_samples_split': 5, 'max_depth': 10}\n"
     ]
    }
   ],
   "source": [
    "# Подбор гиперпараметров\n",
    "model = RandomForestClassifier()\n",
    "param_grid = {\n",
    "    'n_estimators': [50, 100, 200],\n",
    "    'max_depth': [1, 5, 10],\n",
    "    'min_samples_split': [2, 5]\n",
    "}\n",
    "#grid_search = GridSearchCV(model, param_grid, cv=5)\n",
    "#grid_search.fit(X_tr, y_tr)\n",
    "\n",
    "from sklearn.model_selection import RandomizedSearchCV\n",
    "\n",
    "random_search = RandomizedSearchCV(model, param_distributions=param_grid, n_iter=20, cv=5, random_state=42, n_jobs=-1)\n",
    "random_search.fit(X_tr, y_tr)\n",
    "\n",
    "print(f\"\\nЛучшие параметры для {best_model_name}: {random_search.best_params_}\")"
   ]
  },
  {
   "cell_type": "code",
   "execution_count": 8,
   "metadata": {},
   "outputs": [
    {
     "name": "stdout",
     "output_type": "stream",
     "text": [
      "Точность на тестовой выборке: 0.9461\n"
     ]
    }
   ],
   "source": [
    "# Оценка на тестовой выборке\n",
    "y_pred = random_search.best_estimator_.predict(X_te)\n",
    "test_acc = accuracy_score(y_te, y_pred)\n",
    "print(f\"Точность на тестовой выборке: {test_acc:.4f}\")"
   ]
  }
 ],
 "metadata": {
  "kernelspec": {
   "display_name": "Python 3",
   "language": "python",
   "name": "python3"
  },
  "language_info": {
   "codemirror_mode": {
    "name": "ipython",
    "version": 3
   },
   "file_extension": ".py",
   "mimetype": "text/x-python",
   "name": "python",
   "nbconvert_exporter": "python",
   "pygments_lexer": "ipython3",
   "version": "3.10.11"
  }
 },
 "nbformat": 4,
 "nbformat_minor": 2
}
